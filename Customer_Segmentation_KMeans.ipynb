{
 "cells": [
  {
   "cell_type": "markdown",
   "metadata": {},
   "source": [
    "# Customer Segmentation using K-Means Clustering\n",
    "In this notebook, we perform customer segmentation using the K-Means clustering algorithm. We also determine the optimal number of clusters for better segmentation."
   ]
  },
  {
   "cell_type": "markdown",
   "metadata": {},
   "source": [
    "### Question 1: Customer Segmentation using K-Means Clustering\n",
    "1. Load the dataset\n",
    "2. Clean the data (handle missing values and duplicates)\n",
    "3. Normalize or standardize the features\n",
    "4. Apply K-Means clustering\n",
    "5. Visualize the resulting clusters"
   ]
  },
  {
   "cell_type": "code",
   "execution_count": null,
   "metadata": {},
   "outputs": [],
   "source": [
    "import pandas as pd\n",
    "import numpy as np\n",
    "import matplotlib.pyplot as plt\n",
    "import seaborn as sns\n",
    "from sklearn.preprocessing import StandardScaler\n",
    "from sklearn.cluster import KMeans\n",
    "from sklearn.decomposition import PCA\n",
    "\n",
    "# Load dataset\n",
    "url = 'https://path_to_your_customer_data.csv'  # Replace with your dataset URL\n",
    "df = pd.read_csv(url)\n",
    "\n",
    "# Clean the data\n",
    "df.fillna(df.mean(), inplace=True)  # Handle missing values\n",
    "df.drop_duplicates(inplace=True)  # Remove duplicates\n",
    "\n",
    "# Normalize features\n",
    "numerical_cols = df.select_dtypes(include=['float64', 'int64']).columns\n",
    "scaler = StandardScaler()\n",
    "df_scaled = scaler.fit_transform(df[numerical_cols])\n",
    "\n",
    "# Apply KMeans clustering\n",
    "kmeans = KMeans(n_clusters=3, random_state=42)\n",
    "df['Cluster'] = kmeans.fit_predict(df_scaled)\n",
    "\n",
    "# Visualize the resulting clusters\n",
    "pca = PCA(n_components=2)\n",
    "pca_components = pca.fit_transform(df_scaled)\n",
    "df_pca = pd.DataFrame(pca_components, columns=['PC1', 'PC2'])\n",
    "df_pca['Cluster'] = df['Cluster']\n",
    "plt.figure(figsize=(8, 6))\n",
    "sns.scatterplot(x='PC1', y='PC2', hue='Cluster', data=df_pca, palette='Set1')\n",
    "plt.title('Customer Segmentation using K-Means Clustering')\n",
    "plt.show()"
   ]
  },
  {
   "cell_type": "markdown",
   "metadata": {},
   "source": [
    "### Question 2: Determining the Optimal Number of Clusters\n",
    "1. Apply the Elbow Method\n",
    "2. Optionally, compute the Silhouette Score\n",
    "3. Select the optimal value of k\n",
    "4. Re-run the K-Means algorithm with optimal k\n",
    "5. Visualize the final clustering results"
   ]
  },
  {
   "cell_type": "code",
   "execution_count": null,
   "metadata": {},
   "outputs": [],
   "source": [
    "# Apply Elbow Method to determine optimal k\n",
    "wcss = []\n",
    "for i in range(1, 11):  # Try k from 1 to 10\n",
    "    kmeans = KMeans(n_clusters=i, random_state=42)\n",
    "    kmeans.fit(df_scaled)\n",
    "    wcss.append(kmeans.inertia_)\n",
    "\n",
    "# Plot the Elbow Graph\n",
    "plt.figure(figsize=(8, 6))\n",
    "plt.plot(range(1, 11), wcss, marker='o', color='blue')\n",
    "plt.title('Elbow Method for Optimal k')\n",
    "plt.xlabel('Number of Clusters')\n",
    "plt.ylabel('WCSS (Within-Cluster Sum of Squares)')\n",
    "plt.show()\n",
    "\n",
    "# Compute Silhouette Scores for different k\n",
    "from sklearn.metrics import silhouette_score\n",
    "silhouette_scores = []\n",
    "for i in range(2, 11):  # Try k from 2 to 10\n",
    "    kmeans = KMeans(n_clusters=i, random_state=42)\n",
    "    kmeans.fit(df_scaled)\n",
    "    score = silhouette_score(df_scaled, kmeans.labels_)\n",
    "    silhouette_scores.append(score)\n",
    "\n",
    "# Plot silhouette scores\n",
    "plt.figure(figsize=(8, 6))\n",
    "plt.plot(range(2, 11), silhouette_scores, marker='o', color='green')\n",
    "plt.title('Silhouette Scores for Different k')\n",
    "plt.xlabel('Number of Clusters')\n",
    "plt.ylabel('Silhouette Score')\n",
    "plt.show()\n",
    "\n",
    "# Choose optimal k (e.g., k=3 based on elbow/silhouette)\n",
    "optimal_k = 3\n",
    "final_kmeans = KMeans(n_clusters=optimal_k, random_state=42)\n",
    "df['Cluster'] = final_kmeans.fit_predict(df_scaled)\n",
    "\n",
    "# Final Visualization\n",
    "final_pca_components = pca.fit_transform(df_scaled)\n",
    "df_pca_final = pd.DataFrame(final_pca_components, columns=['PC1', 'PC2'])\n",
    "df_pca_final['Cluster'] = df['Cluster']\n",
    "plt.figure(figsize=(8, 6))\n",
    "sns.scatterplot(x='PC1', y='PC2', hue='Cluster', data=df_pca_final, palette='Set1')\n",
    "plt.title(f'Final Customer Segmentation with k={optimal_k}')\n",
    "plt.show()"
   ]
  }
 ],
 "metadata": {
  "kernelspec": {
   "display_name": "Python 3",
   "language": "python",
   "name": "python3"
  },
  "language_info": {
   "name": "python",
   "version": "3.9"
  }
 },
 "nbformat": 4,
 "nbformat_minor": 2
}