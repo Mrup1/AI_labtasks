{
 "cells": [
  {
   "cell_type": "code",
   "execution_count": null,
   "id": "72ef059c-5652-4aaf-8144-1a55136313ca",
   "metadata": {},
   "outputs": [
    {
     "ename": "",
     "evalue": "",
     "output_type": "error",
     "traceback": [
      "\u001b[1;31mRunning cells with 'Python 3.13.3' requires the ipykernel package.\n",
      "\u001b[1;31m<a href='command:jupyter.createPythonEnvAndSelectController'>Create a Python Environment</a> with the required packages.\n",
      "\u001b[1;31mOr install 'ipykernel' using the command: '/opt/homebrew/bin/python3 -m pip install ipykernel -U --user --force-reinstall'"
     ]
    }
   ],
   "source": [
    "from sklearn.cluster import KMeans\n",
    "import numpy as np\n",
    "import matplotlib.pyplot as plt\n",
    "\n",
    "# Sample data\n",
    "X = np.array([[2, 10], [2, 5], [8, 4], [5, 8], [7, 5], [6, 4],[1,2],[4,9]])\n"
   ]
  },
  {
   "cell_type": "code",
   "execution_count": null,
   "id": "043b517b-c7d1-4a3d-83d6-c1301c27181a",
   "metadata": {},
   "outputs": [],
   "source": [
    "plot=plt.scatter(X[:,0],X[:,1])"
   ]
  },
  {
   "cell_type": "code",
   "execution_count": null,
   "id": "f65be728-6f2c-4e84-ab11-d29bd98dc0da",
   "metadata": {},
   "outputs": [],
   "source": [
    "# Specifying the number of clusters\n",
    "kmeans = KMeans(n_clusters=3)\n",
    "\n",
    "# Fitting the model to the data\n",
    "kmeans.fit(X)\n",
    "\n",
    "# Getting the centroids of the clusters\n",
    "centroids = kmeans.cluster_centers_\n",
    "print(\"Centroids:\")\n",
    "print(centroids)\n",
    "\n",
    "# Getting the labels assigned to each data point\n",
    "labels = kmeans.labels_\n",
    "print(\"\\nLabels:\")\n",
    "print(labels)"
   ]
  },
  {
   "cell_type": "code",
   "execution_count": null,
   "id": "7415739e-a19c-4781-a05e-a26518a10afd",
   "metadata": {},
   "outputs": [],
   "source": [
    "# New data point\n",
    "new_data_point = np.array([[2, 3]])\n",
    "\n",
    "# Predict the cluster for the new data point\n",
    "predicted_cluster = kmeans.predict(new_data_point)\n",
    "\n",
    "# Print the predicted cluster\n",
    "print(\"Predicted Cluster for the New Data Point:\", predicted_cluster)"
   ]
  },
  {
   "cell_type": "code",
   "execution_count": null,
   "id": "a19abff0-a69a-4c7c-94b4-705f4d64ccc1",
   "metadata": {},
   "outputs": [],
   "source": []
  }
 ],
 "metadata": {
  "kernelspec": {
   "display_name": "Python 3",
   "language": "python",
   "name": "python3"
  },
  "language_info": {
   "codemirror_mode": {
    "name": "ipython",
    "version": 3
   },
   "file_extension": ".py",
   "mimetype": "text/x-python",
   "name": "python",
   "nbconvert_exporter": "python",
   "pygments_lexer": "ipython3",
   "version": "3.13.3"
  }
 },
 "nbformat": 4,
 "nbformat_minor": 5
}
