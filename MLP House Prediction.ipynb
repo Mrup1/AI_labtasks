import pandas as pd
import numpy as np
from sklearn.model_selection import train_test_split
from sklearn.preprocessing import StandardScaler
from tensorflow import keras
from tensorflow.keras import layers
import matplotlib.pyplot as plt
import uuid

# Load and clean the data
data = pd.read_csv('HousingData.csv')
data.replace('NA', np.nan, inplace=True)
data.fillna(data.median(), inplace=True)

# Split into features and target
X = data.drop('MEDV', axis=1)
y = data['MEDV']

# Normalize features
scaler = StandardScaler()
X_scaled = scaler.fit_transform(X)

# Split into training and testing sets
X_train, X_test, y_train, y_test = train_test_split(X_scaled, y, test_size=0.2, random_state=42)

# Function to create MLP model
def create_mlp_model(num_layers, num_units):
    model = keras.Sequential()
    model.add(layers.Input(shape=(X_train.shape[1],)))
    for _ in range(num_layers):
        model.add(layers.Dense(num_units, activation='relu'))
    model.add(layers.Dense(1))
    model.compile(optimizer='adam', loss='mse')
    return model

# Define model configurations
model_configs = [
    {'layers': 1, 'units': 32},
    {'layers': 1, 'units': 64},
    {'layers': 1, 'units': 128},
    {'layers': 2, 'units': 32},
    {'layers': 2, 'units': 64},
    {'layers': 2, 'units': 128},
    {'layers': 3, 'units': 32},
    {'layers': 3, 'units': 64},
    {'layers': 3, 'units': 128},
]

# Store MSE scores
mse_scores = {}

# Train and test each model
for config in model_configs:
    model_id = str(uuid.uuid4())
    model = create_mlp_model(config['layers'], config['units'])
    model.fit(X_train, y_train, epochs=100, batch_size=32, verbose=0, validation_split=0.2)
    mse = model.evaluate(X_test, y_test, verbose=0)
    mse_scores[f"{config['layers']} layers, {config['units']} units"] = mse

# Print results
print("Model performance (MSE):")
for config, mse in mse_scores.items():
    print(f"{config}: {mse:.4f}")

# Create bar plot
plt.figure(figsize=(12, 6))
plt.bar(mse_scores.keys(), mse_scores.values(), color='lightblue')
plt.xlabel('Model Setup (Layers and Neurons)')
plt.ylabel('Mean Squared Error')
plt.title('Neural Network Performance Comparison')
plt.xticks(rotation=45, ha='right')
plt.tight_layout()
plt.savefig('model_comparison.png')
plt.close()